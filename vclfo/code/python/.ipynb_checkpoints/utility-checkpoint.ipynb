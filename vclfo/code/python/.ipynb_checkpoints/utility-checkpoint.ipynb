{
 "cells": [
  {
   "cell_type": "code",
   "execution_count": 2,
   "id": "f4d5d5d4-ed04-4497-9230-ee7749f70e69",
   "metadata": {},
   "outputs": [],
   "source": [
    "def clamp(value, lower, upper):\n",
    "    return max(lower, min(value, upper))\n",
    "\n",
    "# lerp: linear interpolation\n",
    "\n",
    "# interpolates between two points\n",
    "# amount=0 -> x1, amount=1 -> x2\n",
    "def lerp1d(x1, x2, amount):\n",
    "    return (1-amount)*x1 + amount*x2\n",
    "\n",
    "# wave_idx is the index into the wave sample\n",
    "# returns the linearly interpolated wave value at point k\n",
    "def lerp2d(x0, y0, x1, y1, k):\n",
    "    return (y0*(x1 - k) + y1*(k - x0))/(x1 - x0)\n",
    "\n",
    "# remaps val from linear range [min_1, max_1] to linear range [min_2, max_2] \n",
    "def translate_range(val, min_1, max_1, min_2, max_2):\n",
    "    from_rng = max_1 - min_1\n",
    "    to_rng = max_2 - min_2\n",
    "    \n",
    "    if from_rng == 0:\n",
    "        return 0\n",
    "    \n",
    "    out = (((val - min_1) * to_rng) / from_rng) + min_2\n",
    "    return clamp(out, min_2, max_2)\n",
    "\n",
    "# interpolates between wave_1 and wave_2\n",
    "# amount=0 -> wave_1, amount=1 -> wave_2\n",
    "def morph(wave_1, wave_2, amount):\n",
    "    return [(1-amount)*w1 + amount*w2 for w1,w2 in zip(wave_1, wave_2)]\n",
    "\n",
    "# linearly attenuate an input 'inp' by an amount defined by 'factor' \n",
    "def lin_att(inp, factor):\n",
    "    return inp * factor"
   ]
  },
  {
   "cell_type": "code",
   "execution_count": null,
   "id": "726261e7-c721-4607-bbab-05f2d2ef469c",
   "metadata": {},
   "outputs": [],
   "source": []
  }
 ],
 "metadata": {
  "kernelspec": {
   "display_name": "Python 3",
   "language": "python",
   "name": "python3"
  },
  "language_info": {
   "codemirror_mode": {
    "name": "ipython",
    "version": 3
   },
   "file_extension": ".py",
   "mimetype": "text/x-python",
   "name": "python",
   "nbconvert_exporter": "python",
   "pygments_lexer": "ipython3",
   "version": "3.9.4"
  }
 },
 "nbformat": 4,
 "nbformat_minor": 5
}
